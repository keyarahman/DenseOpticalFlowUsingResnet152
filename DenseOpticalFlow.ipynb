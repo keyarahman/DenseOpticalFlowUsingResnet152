{
  "nbformat": 4,
  "nbformat_minor": 0,
  "metadata": {
    "colab": {
      "name": "DenseOpticalFlow.ipynb",
      "private_outputs": true,
      "provenance": [],
      "collapsed_sections": [],
      "machine_shape": "hm"
    },
    "kernelspec": {
      "name": "python3",
      "display_name": "Python 3"
    },
    "accelerator": "GPU"
  },
  "cells": [
    {
      "cell_type": "code",
      "metadata": {
        "id": "M-n0Fo2GOq0-"
      },
      "source": [
        "\n",
        "#import the necessary packages\n",
        "from tensorflow.keras.preprocessing.image import ImageDataGenerator\n",
        "from tensorflow.keras.layers import AveragePooling2D\n",
        "from tensorflow.keras.applications import ResNet152,VGG16\n",
        "from tensorflow.keras.layers import Dropout\n",
        "from tensorflow.keras.layers import Flatten\n",
        "from tensorflow.keras.layers import Dense\n",
        "from tensorflow.keras.layers import Input\n",
        "from tensorflow.keras.models import Model\n",
        "from tensorflow.keras.optimizers import SGD\n",
        "from sklearn.preprocessing import LabelBinarizer\n",
        "from sklearn.model_selection import train_test_split\n",
        "from sklearn.metrics import classification_report\n",
        "#from google.colab.patches import cv2_imshow\n",
        "#from imutils import paths\n",
        "import matplotlib.pyplot as plt\n",
        "import numpy as np\n",
        "import argparse\n",
        "import pickle\n",
        "import cv2 as cv \n",
        "import os\n",
        "import json\n",
        "import pickle\n",
        "import tensorflow as tf\n",
        "from tensorflow import keras"
      ],
      "execution_count": null,
      "outputs": []
    },
    {
      "cell_type": "code",
      "metadata": {
        "id": "JsP-dZZAb5lB"
      },
      "source": [
        "path=\"/content/drive/MyDrive/Dataset/UCF/ucf/\""
      ],
      "execution_count": null,
      "outputs": []
    },
    {
      "cell_type": "code",
      "metadata": {
        "id": "ktT_zpoxWSmN"
      },
      "source": [
        "label_list=[]\n",
        "for file in os.listdir(path):\n",
        "    filename= os.fsdecode(path+file)\n",
        "    #print(\"Filename: \",filename)\n",
        "    name=filename.split('/')[7]\n",
        "    #print(\"Name: \", name)\n",
        "    label_list.append(name)  \n",
        "label={}#\n",
        "idx=0\n",
        "for i in label_list:\n",
        "    label[i]=idx\n",
        "    idx+=1\n",
        "for i in label_list:\n",
        "    print(i)\n",
        "    print(label[i])"
      ],
      "execution_count": null,
      "outputs": []
    },
    {
      "cell_type": "code",
      "metadata": {
        "id": "4OsfxZ690Llt"
      },
      "source": [
        "\n",
        "label=[]\n",
        "image=[]"
      ],
      "execution_count": null,
      "outputs": []
    },
    {
      "cell_type": "code",
      "metadata": {
        "id": "4zRN53uqwsqg"
      },
      "source": [
        "\n",
        "def optical_image(folder_name):\n",
        "\n",
        "    curr_folder=os.fsdecode(path+folder_name)\n",
        "    file_name=folder_name+\".data\"\n",
        "    count2=0\n",
        "    for file1 in os.listdir(curr_folder):\n",
        "        if count2==1:\n",
        "            break\n",
        "        if file1.endswith('.avi'):\n",
        "            print(file1)\n",
        "            \n",
        "            cap = cv.VideoCapture(curr_folder+'/' + file1)\n",
        "            #print(\"cap: \",cap.isOpened())\n",
        "            ret, first_frame = cap.read()\n",
        "            prev_gray = cv.cvtColor(first_frame, cv.COLOR_BGR2GRAY)\n",
        "            mask = np.zeros_like(first_frame)\n",
        "            \n",
        "            mask[..., 1] = 255\n",
        "            count=0\n",
        "            while(cap.isOpened()):\n",
        "\n",
        "                ret, frame = cap.read()\n",
        "                if (ret != True):\n",
        "                    break\n",
        "                gray = cv.cvtColor(frame, cv.COLOR_BGR2GRAY)\n",
        "                flow = cv.calcOpticalFlowFarneback(prev_gray, gray, None, 0.5, 3, 15, 3, 5, 1.2, 0)\n",
        "                magnitude, angle = cv.cartToPolar(flow[..., 0], flow[..., 1])\n",
        "                mask[..., 0] = angle * 180 / np.pi / 2\n",
        "                mask[..., 2] = cv.normalize(magnitude, None, 0, 255, cv.NORM_MINMAX)\n",
        "                rgb = cv.cvtColor(mask, cv.COLOR_HSV2BGR)\n",
        "             \n",
        "               \n",
        "                rgb = cv.resize(rgb, (224, 224))\n",
        "                #cv.imshow(\"dense optical flow\", rgb)\n",
        "                #Here rgb is optical flow of one frame\n",
        "                rgb=np.array(rgb)\n",
        "            \n",
        "                # Updates previous frame\n",
        "                prev_gray = gray\n",
        "                if cv.waitKey(1) & 0xFF == ord('q'):\n",
        "                     break\n",
        "           \n",
        "                \n",
        "                #store all video's OP_Flow of each category(ApplyMakeUp) in images\n",
        "                image.append(rgb)\n",
        "\n",
        "                #mapping each video's OP_flow with the corresponding category name\n",
        "                label.append(folder_name)\n",
        "               \n",
        "                count=count+1\n",
        "            count2=count2+1\n",
        "            cap.release()\n",
        "            cv.destroyAllWindows()    \n",
        "    \n",
        "    "
      ],
      "execution_count": null,
      "outputs": []
    },
    {
      "cell_type": "code",
      "metadata": {
        "id": "nEIDod6WxLNm"
      },
      "source": [
        "#creating list of each folder name and store in folder_list\n",
        "folder_list=[]\n",
        "\n",
        "dirs=os.listdir(path)\n",
        "\n",
        "for file in dirs:\n",
        "    filename=os.fsdecode(path+file)\n",
        "    #print(filename)\n",
        "    name=filename.split('/')[7]\n",
        "   # optical_image2(name)\n",
        "    print(name)\n",
        "    folder_list.append(name)"
      ],
      "execution_count": null,
      "outputs": []
    },
    {
      "cell_type": "code",
      "metadata": {
        "id": "iX9bDYVA70wc"
      },
      "source": [
        "label_mapping=[]#mapping or labeling each frame with the video folder_name\n",
        "_allShapeLable=np.zeros(())\n",
        "for item in folder_list:\n",
        "    print(\"----la la-----: \", item)\n",
        "   \n",
        "    optical_image(item)"
      ],
      "execution_count": null,
      "outputs": []
    },
    {
      "cell_type": "code",
      "metadata": {
        "id": "wEcouhyp9epi"
      },
      "source": [
        "\n",
        "with open(\"/content/drive/MyDrive/Dataset/laa.data\", 'wb') as f:\n",
        "    #pickle.dump(label, f)\n",
        "        \n",
        "with open(\"/content/drive/MyDrive/Dataset/imm.data\", 'wb') as f:\n",
        "#pickle.dump(image, f)        "
      ],
      "execution_count": null,
      "outputs": []
    },
    {
      "cell_type": "code",
      "metadata": {
        "id": "-TyhKdOt9eqk"
      },
      "source": [
        "with open(\"/content/drive/MyDrive/Dataset/imm.data\",'rb') as f:\n",
        "    images=pickle.load( f)\n",
        "image = np.asarray(images) \n",
        "print(image.shape)\n",
        "with open(\"/content/drive/MyDrive/Dataset/laa.data\", 'rb') as l:\n",
        "    labels=pickle.load(l)\n",
        "label= np.asarray(labels) \n",
        "print(label.shape)"
      ],
      "execution_count": null,
      "outputs": []
    },
    {
      "cell_type": "code",
      "metadata": {
        "id": "t10LEepub_Vp"
      },
      "source": [
        "label= np.asarray(label)\n",
        "lb = LabelBinarizer()\n",
        "labels = lb.fit_transform(label)\n",
        "print(labels.shape)"
      ],
      "execution_count": null,
      "outputs": []
    },
    {
      "cell_type": "code",
      "metadata": {
        "id": "DBgR33jD4Mmn"
      },
      "source": [
        "image = np.asarray(image) \n",
        "print(image.shape)"
      ],
      "execution_count": null,
      "outputs": []
    },
    {
      "cell_type": "code",
      "metadata": {
        "id": "Z2rbsYARcCEZ"
      },
      "source": [
        "(trainX, testX, trainY, testY) = train_test_split(image, labels,\n",
        "    test_size=0.25, stratify=labels, random_state=42)"
      ],
      "execution_count": null,
      "outputs": []
    },
    {
      "cell_type": "code",
      "metadata": {
        "id": "-FAfkRIb4mrY"
      },
      "source": [
        "print(trainX.shape,testX.shape)"
      ],
      "execution_count": null,
      "outputs": []
    },
    {
      "cell_type": "code",
      "metadata": {
        "id": "_tly2RkL6uWx"
      },
      "source": [
        "trainAug = ImageDataGenerator(\n",
        "    rotation_range=30,\n",
        "    zoom_range=0.15,\n",
        "    width_shift_range=0.2,\n",
        "    height_shift_range=0.2,\n",
        "    shear_range=0.15,\n",
        "    horizontal_flip=True,\n",
        "    fill_mode=\"nearest\")\n",
        "#valAug = ImageDataGenerator()\n",
        "mean = np.array([123.68, 116.779, 103.939], dtype=\"float32\")\n",
        "trainAug.mean = mean\n",
        "#valAug.mean = mean"
      ],
      "execution_count": null,
      "outputs": []
    },
    {
      "cell_type": "code",
      "metadata": {
        "id": "cnVVEPRXcGjf"
      },
      "source": [
        "# load the ResNet-50 network, ensuring the head FC layer sets are left\n",
        "# off\n",
        "baseModel = ResNet152(weights=\"imagenet\", include_top=False,\n",
        "\tinput_tensor=Input(shape=(224,224, 3)))\n",
        "headModel = baseModel.output\n",
        "headModel = AveragePooling2D(pool_size=(7, 7))(headModel)\n",
        "headModel = Flatten(name=\"flatten\")(headModel)\n",
        "headModel = Dense(512, activation=\"relu\")(headModel)\n",
        "headModel = Dropout(0.5)(headModel)\n",
        "headModel = Dense(len(lb.classes_), activation=\"softmax\")(headModel)\n",
        "model = Model(inputs=baseModel.input, outputs=headModel)\n",
        "\n",
        "for layer in baseModel.layers:\n",
        "\tlayer.trainable = False"
      ],
      "execution_count": null,
      "outputs": []
    },
    {
      "cell_type": "code",
      "metadata": {
        "id": "3KF97FLccIuh"
      },
      "source": [
        ""
      ],
      "execution_count": null,
      "outputs": []
    },
    {
      "cell_type": "code",
      "metadata": {
        "id": "-c0T1QngcLNZ"
      },
      "source": [
        "from keras.callbacks import ModelCheckpoint\n",
        "save = ModelCheckpoint('weight.hdf5', save_best_only=True, monitor='val_loss', mode='min')"
      ],
      "execution_count": null,
      "outputs": []
    },
    {
      "cell_type": "code",
      "metadata": {
        "id": "dVwcuEm3oXW7"
      },
      "source": [
        "# layers to being non-trainable)\n",
        "print(\"[INFO] compiling model...\")\n",
        "#opt = SGD(lr=1e-4, momentum=0.9, decay=1e-4 / 70)\n",
        "model.compile(loss=\"categorical_crossentropy\", optimizer=\"rmsprop\",\n",
        "\tmetrics=[\"accuracy\"])\n",
        "# train the head of the network for a few epochs (all other layers\n",
        "# are frozen) -- this will allow the new FC layers to start to become\n",
        "# initialized with actual \"learned\" values versus pure random\n",
        "print(\"[INFO] training head...\")\n",
        "H = model.fit(\n",
        " x=trainAug.flow(trainX, trainY), batch_size=64,\n",
        "\n",
        " validation_data=(testX, testY),\n",
        "   \n",
        "    epochs=120)"
      ],
      "execution_count": null,
      "outputs": []
    },
    {
      "cell_type": "code",
      "metadata": {
        "id": "ZYXWIBs0HUtL"
      },
      "source": [
        ""
      ],
      "execution_count": null,
      "outputs": []
    },
    {
      "cell_type": "code",
      "metadata": {
        "id": "-KlvlaPzHU2t"
      },
      "source": [
        "import keras\n",
        "from matplotlib import pyplot as plt\n",
        "\n",
        "plt.plot(H.history['accuracy'])\n",
        "plt.plot(H.history['val_accuracy'])\n",
        "plt.title('model accuracy')\n",
        "plt.ylabel('accuracy')\n",
        "plt.xlabel('epoch')\n",
        "plt.legend(['train', 'test'], loc='upper left')\n",
        "plt.show()"
      ],
      "execution_count": null,
      "outputs": []
    },
    {
      "cell_type": "code",
      "metadata": {
        "id": "4W8c-FzbHdcZ"
      },
      "source": [
        "import keras\n",
        "from matplotlib import pyplot as plt\n",
        "\n",
        "plt.plot(H.history['loss'])\n",
        "plt.plot(H.history['val_loss'])\n",
        "plt.title('model loss')\n",
        "plt.ylabel('loss')\n",
        "plt.xlabel('epoch')\n",
        "plt.legend(['train', 'val'], loc='upper left')\n",
        "plt.show()"
      ],
      "execution_count": null,
      "outputs": []
    },
    {
      "cell_type": "code",
      "metadata": {
        "id": "KUWz55JawdM9"
      },
      "source": [
        "loss, acc = model.evaluate(testX ,testY, verbose=2)\n",
        "print(\"Restored model, accuracy: {:5.2f}%\".format(100 * acc))"
      ],
      "execution_count": null,
      "outputs": []
    }
  ]
}